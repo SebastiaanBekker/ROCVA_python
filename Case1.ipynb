{
 "cells": [
  {
   "cell_type": "markdown",
   "source": [
    "## Tien opdrachten met datatypes om zelf te proberen/programmeren\n"
   ],
   "metadata": {
    "collapsed": false
   }
  },
  {
   "cell_type": "code",
   "execution_count": null,
   "outputs": [],
   "source": [
    "# Er zijn twee appels en drie peren, hoeveel stuks fruit zijn er?\n"
   ],
   "metadata": {
    "collapsed": false
   }
  },
  {
   "cell_type": "code",
   "execution_count": null,
   "outputs": [],
   "source": [
    "#Een ijzerplaat is  2.34322 millimeter dik, de volgende ijzerplaat is 2.35222 millimeter dik. wat is de totale dikte?\n"
   ],
   "metadata": {
    "collapsed": false
   }
  },
  {
   "cell_type": "code",
   "execution_count": null,
   "outputs": [],
   "source": [
    "#   En wat is de gemiddelde dikte van de twee platen?"
   ],
   "metadata": {
    "collapsed": false
   }
  },
  {
   "cell_type": "code",
   "execution_count": null,
   "outputs": [],
   "source": [
    "# Je hebt 200 euro op je rekening en gaat 212 euro af, wat is je nieuwe saldo?"
   ],
   "metadata": {
    "collapsed": false
   }
  },
  {
   "cell_type": "code",
   "execution_count": null,
   "outputs": [],
   "source": [
    "# Er zijn 3 rijen met 12 stoelen, hoeveel stoelen zijn er in totaal."
   ],
   "metadata": {
    "collapsed": false
   }
  },
  {
   "cell_type": "markdown",
   "source": [
    "# list, tuple, dict\n",
    "\n",
    "Welke kies en hoe maak je m?"
   ],
   "metadata": {
    "collapsed": false
   }
  },
  {
   "cell_type": "code",
   "execution_count": null,
   "outputs": [],
   "source": [
    "# Je wilt een overzicht met de dagen van de week."
   ],
   "metadata": {
    "collapsed": false
   }
  },
  {
   "cell_type": "code",
   "execution_count": null,
   "outputs": [],
   "source": [
    "# Je wilt een reeks met verschillende getallen, die je leest uit een meter in een machine."
   ],
   "metadata": {
    "collapsed": false
   }
  },
  {
   "cell_type": "code",
   "execution_count": null,
   "outputs": [],
   "source": [
    "# Je wilt een cijferlijst met leerlingen, met naam, voornaam en cijfer voor vijf klassen."
   ],
   "metadata": {
    "collapsed": false
   }
  }
 ],
 "metadata": {
  "kernelspec": {
   "display_name": "Python 3",
   "language": "python",
   "name": "python3"
  },
  "language_info": {
   "codemirror_mode": {
    "name": "ipython",
    "version": 2
   },
   "file_extension": ".py",
   "mimetype": "text/x-python",
   "name": "python",
   "nbconvert_exporter": "python",
   "pygments_lexer": "ipython2",
   "version": "2.7.6"
  }
 },
 "nbformat": 4,
 "nbformat_minor": 0
}
