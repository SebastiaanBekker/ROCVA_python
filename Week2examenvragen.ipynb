{
 "cells": [
  {
   "cell_type": "markdown",
   "source": [
    "Wat is de uitvoer van de volgende code?\n"
   ],
   "metadata": {
    "collapsed": false
   }
  },
  {
   "cell_type": "code",
   "execution_count": null,
   "outputs": [],
   "source": [
    "print(2 * 3 + 5)"
   ],
   "metadata": {
    "collapsed": false
   }
  },
  {
   "cell_type": "markdown",
   "source": [
    "a) 16\n",
    "b) 11\n",
    "c) 13\n",
    "d) 7"
   ],
   "metadata": {
    "collapsed": false
   }
  },
  {
   "cell_type": "markdown",
   "source": [
    "Welke gegevensstructuur in Python slaat elementen op in een niet-sequentieel volgorde?\n",
    "a) Lijst\n",
    "b) Tuple\n",
    "c) Woordenboek (dictionary)\n",
    "d) Set\n"
   ],
   "metadata": {
    "collapsed": false
   }
  },
  {
   "cell_type": "markdown",
   "source": [
    "Wat is de juiste syntaxis om een bestand genaamd \"data.txt\" te openen in Python?\n",
    "a) open(\"data.txt\", \"r\")\n",
    "b) open(\"data.txt\", \"w\")\n",
    "c) open(\"data.txt\", \"a\")\n",
    "d) Alle bovengenoemde opties"
   ],
   "metadata": {
    "collapsed": false
   }
  },
  {
   "cell_type": "markdown",
   "source": [
    "Hoe definieer je een functie in Python?\n",
    "a) define my_function():\n",
    "b) def my_function():\n",
    "c) function my_function():\n",
    "d) func my_function():"
   ],
   "metadata": {
    "collapsed": false
   }
  },
  {
   "cell_type": "markdown",
   "source": [
    "Wat doet het \"import\" keyword in Python?\n",
    "a) Definieert een nieuwe module\n",
    "b) Importeert een module of een specifiek object uit een module\n",
    "c) Importeert de ingebouwde Python functies\n",
    "d) Definieert een klasse"
   ],
   "metadata": {
    "collapsed": false
   }
  },
  {
   "cell_type": "markdown",
   "source": [
    "Welke van de volgende is geen geldige manier om een enkele regel te commentariëren in Python?\n",
    "a) // Dit is een commentaar\n",
    "b) # Dit is een commentaar\n",
    "c) ''' Dit is een commentaar '''\n",
    "d) \"\"\" Dit is een commentaar \"\"\""
   ],
   "metadata": {
    "collapsed": false
   }
  },
  {
   "cell_type": "markdown",
   "source": [
    "Hoe controleer je de lengte van een lijst genaamd \"my_list\" in Python?\n",
    "a) size(my_list)\n",
    "b) length(my_list)\n",
    "c) len(my_list)\n",
    "d) count(my_list)"
   ],
   "metadata": {
    "collapsed": false
   }
  },
  {
   "cell_type": "code",
   "execution_count": null,
   "outputs": [],
   "source": [
    "# Wat is de uitvoer van de volgende code?\n",
    "\n",
    "my_list = [1, 2, 3]\n",
    "my_list.append(4)\n",
    "print(my_list)"
   ],
   "metadata": {
    "collapsed": false
   }
  },
  {
   "cell_type": "markdown",
   "source": [
    "a) [1, 2, 3]\n",
    "b) [2, 3, 4]\n",
    "c) [1, 2, 3, 4]\n",
    "d) [4, 3, 2, 1]\n",
    "\n",
    "Wat is het doel van de \"if\" statement in Python?\n",
    "a) Om een lus te verklaren\n",
    "b) Om een functie te definiëren\n",
    "c) Om uitzonderingen af te handelen\n",
    "d) Om de stroom van het programma te controleren op basis van een voorwaarde"
   ],
   "metadata": {
    "collapsed": false
   }
  },
  {
   "cell_type": "markdown",
   "source": [
    "Wat doet het \"return\" statement in een functie?\n",
    "a) Beëindigt het programma\n",
    "b) Slaat de resterende code in de functie over\n",
    "c) Geeft een waarde terug uit de functie\n",
    "d) Print een waarde naar de console"
   ],
   "metadata": {
    "collapsed": false
   }
  }
 ],
 "metadata": {
  "kernelspec": {
   "display_name": "Python 3",
   "language": "python",
   "name": "python3"
  },
  "language_info": {
   "codemirror_mode": {
    "name": "ipython",
    "version": 2
   },
   "file_extension": ".py",
   "mimetype": "text/x-python",
   "name": "python",
   "nbconvert_exporter": "python",
   "pygments_lexer": "ipython2",
   "version": "2.7.6"
  }
 },
 "nbformat": 4,
 "nbformat_minor": 0
}
