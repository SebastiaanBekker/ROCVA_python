{
 "cells": [
  {
   "cell_type": "code",
   "execution_count": 15,
   "outputs": [],
   "source": [
    "# Print de volgende zin op meerdere regels met behulp van escape sequences en een enkele print() functie:\n",
    "# Python\n",
    "# is\n",
    "# leuk\n"
   ],
   "metadata": {
    "collapsed": false,
    "ExecuteTime": {
     "end_time": "2023-05-22T12:29:49.606921Z",
     "start_time": "2023-05-22T12:29:49.601069Z"
    }
   }
  },
  {
   "cell_type": "code",
   "execution_count": 1,
   "metadata": {
    "collapsed": true,
    "ExecuteTime": {
     "end_time": "2023-05-22T12:17:05.769046Z",
     "start_time": "2023-05-22T12:17:05.766310Z"
    }
   },
   "outputs": [
    {
     "ename": "SyntaxError",
     "evalue": "unterminated string literal (detected at line 3) (1720991164.py, line 3)",
     "output_type": "error",
     "traceback": [
      "\u001B[0;36m  Cell \u001B[0;32mIn[1], line 3\u001B[0;36m\u001B[0m\n\u001B[0;31m    print(\"Je bent te jong om deze film te bekijken.\\\")\u001B[0m\n\u001B[0m          ^\u001B[0m\n\u001B[0;31mSyntaxError\u001B[0m\u001B[0;31m:\u001B[0m unterminated string literal (detected at line 3)\n"
     ]
    }
   ],
   "source": [
    "leeftijd = 18\n",
    "if leeftijd < 18:\n",
    "    print(\"Je bent te jong om deze film te bekijken.\\\")\n",
    "else:\n",
    "    print(\"Veel plezier met de film!\")\n"
   ]
  },
  {
   "cell_type": "code",
   "execution_count": 2,
   "outputs": [
    {
     "ename": "SyntaxError",
     "evalue": "invalid syntax (3800238736.py, line 6)",
     "output_type": "error",
     "traceback": [
      "\u001B[0;36m  Cell \u001B[0;32mIn[2], line 6\u001B[0;36m\u001B[0m\n\u001B[0;31m    print(\"a is kleiner dan b\".)\u001B[0m\n\u001B[0m                               ^\u001B[0m\n\u001B[0;31mSyntaxError\u001B[0m\u001B[0;31m:\u001B[0m invalid syntax\n"
     ]
    }
   ],
   "source": [
    "a = 5\n",
    "b = 7\n",
    "if a > b:\n",
    "    print(\"a is groter dan b.\")\n",
    "else:\n",
    "    print(\"a is kleiner dan b\".)\n",
    "\n"
   ],
   "metadata": {
    "collapsed": false,
    "ExecuteTime": {
     "end_time": "2023-05-22T12:17:35.839909Z",
     "start_time": "2023-05-22T12:17:35.835783Z"
    }
   }
  },
  {
   "cell_type": "code",
   "execution_count": 6,
   "outputs": [
    {
     "name": "stdout",
     "output_type": "stream",
     "text": [
      "Dit is de eerste regel. En dit de tweede regel.\n"
     ]
    }
   ],
   "source": [
    "## print het volgende op twee regels:\n",
    "print(\"Dit is de eerste regel. En dit de tweede regel.\")"
   ],
   "metadata": {
    "collapsed": false,
    "ExecuteTime": {
     "end_time": "2023-05-22T12:21:41.506725Z",
     "start_time": "2023-05-22T12:21:41.498383Z"
    }
   }
  },
  {
   "cell_type": "code",
   "execution_count": 11,
   "outputs": [
    {
     "name": "stdout",
     "output_type": "stream",
     "text": [
      "Ik controleer of je deze film mag zien...\n",
      "Je bent \te jong voor deze film.\n"
     ]
    }
   ],
   "source": [
    "## Zorg dat de code werkt en pas het antwoord zo aan dat hij het op de juiste manier print. Probeer allebei de opties van het if statement goed te krijgen.\n",
    "leeftijd = int(input(\"Hoe oud ben je? \"))\n",
    "\n",
    "print(\"Ik controleer of je deze film mag zien...\")\n",
    "if leeftijd >18:\n",
    "    print(\"Je mag deze film \\n zien!\")\n",
    "else:\n",
    "    print(\"Je bent \\te jong voor deze film.\")\n"
   ],
   "metadata": {
    "collapsed": false,
    "ExecuteTime": {
     "end_time": "2023-05-22T12:24:24.590838Z",
     "start_time": "2023-05-22T12:24:22.338497Z"
    }
   }
  },
  {
   "cell_type": "code",
   "execution_count": 17,
   "outputs": [
    {
     "name": "stdout",
     "output_type": "stream",
     "text": [
      "Het bestand bevindt zich in \"C:\n",
      "ieuwe folder\".\n"
     ]
    }
   ],
   "source": [
    "# Het bestand bevindt zich in \"C:\\nieuwe_map\".\n",
    "print(\"Het bestand bevindt zich in \\\"C:\\nieuwe folder\\\".\")"
   ],
   "metadata": {
    "collapsed": false,
    "ExecuteTime": {
     "end_time": "2023-05-22T12:30:33.714238Z",
     "start_time": "2023-05-22T12:30:33.708414Z"
    }
   }
  },
  {
   "cell_type": "code",
   "execution_count": null,
   "outputs": [],
   "source": [],
   "metadata": {
    "collapsed": false
   }
  }
 ],
 "metadata": {
  "kernelspec": {
   "display_name": "Python 3",
   "language": "python",
   "name": "python3"
  },
  "language_info": {
   "codemirror_mode": {
    "name": "ipython",
    "version": 2
   },
   "file_extension": ".py",
   "mimetype": "text/x-python",
   "name": "python",
   "nbconvert_exporter": "python",
   "pygments_lexer": "ipython2",
   "version": "2.7.6"
  }
 },
 "nbformat": 4,
 "nbformat_minor": 0
}
