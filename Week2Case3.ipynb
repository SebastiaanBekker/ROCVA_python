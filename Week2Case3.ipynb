{
 "cells": [
  {
   "cell_type": "code",
   "execution_count": 10,
   "metadata": {
    "collapsed": true,
    "ExecuteTime": {
     "end_time": "2023-05-22T13:39:06.336364Z",
     "start_time": "2023-05-22T13:39:06.317341Z"
    }
   },
   "outputs": [
    {
     "name": "stdout",
     "output_type": "stream",
     "text": [
      "1\n",
      "3\n"
     ]
    }
   ],
   "source": [
    "# Print alle getallen van 1 tot 5\n",
    "for nummer in range(1, 5, 2):\n",
    "    print(nummer)"
   ]
  },
  {
   "cell_type": "code",
   "execution_count": 7,
   "outputs": [
    {
     "name": "stdout",
     "output_type": "stream",
     "text": [
      "De Nederlandse naam is vis en de Engelse naam is fish\n"
     ]
    }
   ],
   "source": [
    "## Er zitten twee fouten in dit stukje code, waarbij je voor alle dieren de vertaling moet geven. Hint: Hoe werk je met een dictionary? En wat gebeurt er met een tab?\n",
    "\n",
    "dieren = {\"hond\": \"dog\", \"kat\": \"cat\", \"vis\": \"fish\"}\n",
    "for nederlandse_naam in dieren:\n",
    "    engelse_naam = dieren[]\n",
    "print(\"De Nederlandse naam is \" + nederlandse_naam + \" en de Engelse naam is \" + engelse_naam)"
   ],
   "metadata": {
    "collapsed": false,
    "ExecuteTime": {
     "end_time": "2023-05-22T13:02:05.093923Z",
     "start_time": "2023-05-22T13:02:05.090241Z"
    }
   }
  },
  {
   "cell_type": "code",
   "execution_count": null,
   "outputs": [],
   "source": [
    "# Print de elementen van de lijst\n",
    "dieren = [\"hond\", \"kat\", \"vis\"]\n",
    "for dier in Dieren:\n",
    "    print(dier)"
   ],
   "metadata": {
    "collapsed": false
   }
  },
  {
   "cell_type": "code",
   "execution_count": 8,
   "outputs": [
    {
     "ename": "SyntaxError",
     "evalue": "expected ':' (1858901035.py, line 4)",
     "output_type": "error",
     "traceback": [
      "\u001B[0;36m  Cell \u001B[0;32mIn[8], line 4\u001B[0;36m\u001B[0m\n\u001B[0;31m    for website in websites\u001B[0m\n\u001B[0m                           ^\u001B[0m\n\u001B[0;31mSyntaxError\u001B[0m\u001B[0;31m:\u001B[0m expected ':'\n"
     ]
    }
   ],
   "source": [
    "websites = [\"nu.nl\", \"nos.nl\", \"ad.nl\", \"telegraaf.nl\", \"parool.nl\", \"trouw.nl\", \"volkskrant.nl\"]\n",
    "paginas = [\"index.html\", \"index.php\", \"index.asp\", \"index.aspx\", \"index.htm\", \"index.jsp\", \"index.py\"]\n",
    "for website in websites\n",
    "    for pagina in paginas:\n",
    "    print(\"https://www.\" + website+\"/\"+pagina)"
   ],
   "metadata": {
    "collapsed": false,
    "ExecuteTime": {
     "end_time": "2023-05-22T13:38:06.874070Z",
     "start_time": "2023-05-22T13:38:06.860646Z"
    }
   }
  },
  {
   "cell_type": "code",
   "execution_count": null,
   "outputs": [],
   "source": [],
   "metadata": {
    "collapsed": false
   }
  }
 ],
 "metadata": {
  "kernelspec": {
   "display_name": "Python 3",
   "language": "python",
   "name": "python3"
  },
  "language_info": {
   "codemirror_mode": {
    "name": "ipython",
    "version": 2
   },
   "file_extension": ".py",
   "mimetype": "text/x-python",
   "name": "python",
   "nbconvert_exporter": "python",
   "pygments_lexer": "ipython2",
   "version": "2.7.6"
  }
 },
 "nbformat": 4,
 "nbformat_minor": 0
}
