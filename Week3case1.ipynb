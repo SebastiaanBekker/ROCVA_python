{
 "cells": [
  {
   "cell_type": "markdown",
   "source": [
    "# oefeningen met while loops en functies"
   ],
   "metadata": {
    "collapsed": false
   }
  },
  {
   "cell_type": "code",
   "execution_count": 6,
   "outputs": [
    {
     "ename": "SyntaxError",
     "evalue": "expected ':' (3443554889.py, line 1)",
     "output_type": "error",
     "traceback": [
      "\u001B[0;36m  Cell \u001B[0;32mIn[6], line 1\u001B[0;36m\u001B[0m\n\u001B[0;31m    def bmi(gewicht, lengte)\u001B[0m\n\u001B[0m                            ^\u001B[0m\n\u001B[0;31mSyntaxError\u001B[0m\u001B[0;31m:\u001B[0m expected ':'\n"
     ]
    }
   ],
   "source": [
    "def bmi(gewicht, lengte)\n",
    "    return gewicht / (lengte ** 2)\n",
    "\n",
    "print(bmi(80, 1.80))"
   ],
   "metadata": {
    "collapsed": false,
    "ExecuteTime": {
     "end_time": "2023-05-24T17:35:57.560810Z",
     "start_time": "2023-05-24T17:35:57.552287Z"
    }
   }
  },
  {
   "cell_type": "code",
   "execution_count": 7,
   "outputs": [
    {
     "ename": "TypeError",
     "evalue": "bmi() missing 1 required positional argument: 'lengte'",
     "output_type": "error",
     "traceback": [
      "\u001B[0;31m---------------------------------------------------------------------------\u001B[0m",
      "\u001B[0;31mTypeError\u001B[0m                                 Traceback (most recent call last)",
      "Cell \u001B[0;32mIn[7], line 4\u001B[0m\n\u001B[1;32m      1\u001B[0m \u001B[38;5;28;01mdef\u001B[39;00m \u001B[38;5;21mbmi\u001B[39m(gewicht, lengte):\n\u001B[1;32m      2\u001B[0m     \u001B[38;5;28;01mreturn\u001B[39;00m gewicht \u001B[38;5;241m/\u001B[39m (lengte \u001B[38;5;241m*\u001B[39m\u001B[38;5;241m*\u001B[39m \u001B[38;5;241m2\u001B[39m)\n\u001B[0;32m----> 4\u001B[0m \u001B[38;5;28mprint\u001B[39m(\u001B[43mbmi\u001B[49m\u001B[43m(\u001B[49m\u001B[38;5;241;43m80\u001B[39;49m\u001B[43m)\u001B[49m)\n",
      "\u001B[0;31mTypeError\u001B[0m: bmi() missing 1 required positional argument: 'lengte'"
     ]
    }
   ],
   "source": [
    "def bmi(gewicht, lengte):\n",
    "    return gewicht / (lengte ** 2)\n",
    "\n",
    "print(bmi(80))"
   ],
   "metadata": {
    "collapsed": false,
    "ExecuteTime": {
     "end_time": "2023-05-24T17:36:12.923817Z",
     "start_time": "2023-05-24T17:36:12.465318Z"
    }
   }
  },
  {
   "cell_type": "code",
   "execution_count": 10,
   "outputs": [
    {
     "name": "stdout",
     "output_type": "stream",
     "text": [
      "1\n",
      "2\n",
      "3\n",
      "4\n",
      "5\n",
      "6\n",
      "7\n",
      "8\n",
      "9\n"
     ]
    }
   ],
   "source": [
    "# Hoe print je de getallen 1 tot en met 10\n",
    "i = 1\n",
    "while i<10:\n",
    "    print(i)\n",
    "    i += 1\n"
   ],
   "metadata": {
    "collapsed": false,
    "ExecuteTime": {
     "end_time": "2023-05-24T17:41:12.113412Z",
     "start_time": "2023-05-24T17:41:12.108444Z"
    }
   }
  },
  {
   "cell_type": "code",
   "execution_count": null,
   "outputs": [],
   "source": [
    "## Er zitten drie fouten in de code, kun je ze vinden?\n",
    "\n",
    "correct_password = \"\"\n",
    "while True\n",
    "    password = input(\"Enter the password: \")\n",
    "    if password != correct_password:\n",
    "        print(\"Wrong password!\")\n",
    "    else:\n",
    "        print(\"Correct password!\")\n"
   ],
   "metadata": {
    "collapsed": false
   }
  },
  {
   "cell_type": "code",
   "execution_count": 16,
   "outputs": [
    {
     "ename": "TypeError",
     "evalue": "get_picture_from_nasa() takes 0 positional arguments but 1 was given",
     "output_type": "error",
     "traceback": [
      "\u001B[0;31m---------------------------------------------------------------------------\u001B[0m",
      "\u001B[0;31mTypeError\u001B[0m                                 Traceback (most recent call last)",
      "Cell \u001B[0;32mIn[16], line 11\u001B[0m\n\u001B[1;32m      8\u001B[0m         apod_data \u001B[38;5;241m=\u001B[39m response\u001B[38;5;241m.\u001B[39mjson()\n\u001B[1;32m      9\u001B[0m         \u001B[38;5;28mprint\u001B[39m(\u001B[38;5;124mf\u001B[39m\u001B[38;5;124m\"\u001B[39m\u001B[38;5;124mAstronomy Picture of the Day:\u001B[39m\u001B[38;5;130;01m\\n\u001B[39;00m\u001B[38;5;124mTitle: \u001B[39m\u001B[38;5;132;01m{\u001B[39;00mapod_data[\u001B[38;5;124m'\u001B[39m\u001B[38;5;124mtitle\u001B[39m\u001B[38;5;124m'\u001B[39m]\u001B[38;5;132;01m}\u001B[39;00m\u001B[38;5;130;01m\\n\u001B[39;00m\u001B[38;5;124mURL: \u001B[39m\u001B[38;5;132;01m{\u001B[39;00mapod_data[\u001B[38;5;124m'\u001B[39m\u001B[38;5;124murl\u001B[39m\u001B[38;5;124m'\u001B[39m]\u001B[38;5;132;01m}\u001B[39;00m\u001B[38;5;124m\"\u001B[39m)\n\u001B[0;32m---> 11\u001B[0m \u001B[43mget_picture_from_nasa\u001B[49m\u001B[43m(\u001B[49m\u001B[38;5;241;43m1\u001B[39;49m\u001B[43m)\u001B[49m\n",
      "\u001B[0;31mTypeError\u001B[0m: get_picture_from_nasa() takes 0 positional arguments but 1 was given"
     ]
    }
   ],
   "source": [
    "import requests # Als dit niet werkt, via instellingen in pycharm naar project interpreter en requests installeren\n",
    "\n",
    "def get_picture_from_nasa()\n",
    "    response = requests.get('https://api.nasa.gov/planetary/apod?api_key=DEMO_KEY')\n",
    "\n",
    "    if response.status_code == 200:\n",
    "        apod_data = response.json()\n",
    "        print(f\"Astronomy Picture of the Day:\\nTitle: {apod_data['title']}\\nURL: {apod_data['url']}\")\n",
    "\n",
    "get_picture_from_nasa(1)\n"
   ],
   "metadata": {
    "collapsed": false,
    "ExecuteTime": {
     "end_time": "2023-05-24T17:56:07.624461Z",
     "start_time": "2023-05-24T17:56:07.600642Z"
    }
   }
  },
  {
   "cell_type": "markdown",
   "source": [
    "## Gefeliciteerd, je hebt het einde van de oefeningen bereikt!\n",
    "Probeer de examenvragen of ga aan de slag met Week2shopsandlocations.py"
   ],
   "metadata": {
    "collapsed": false
   }
  },
  {
   "cell_type": "code",
   "execution_count": null,
   "outputs": [],
   "source": [],
   "metadata": {
    "collapsed": false
   }
  }
 ],
 "metadata": {
  "kernelspec": {
   "display_name": "Python 3",
   "language": "python",
   "name": "python3"
  },
  "language_info": {
   "codemirror_mode": {
    "name": "ipython",
    "version": 2
   },
   "file_extension": ".py",
   "mimetype": "text/x-python",
   "name": "python",
   "nbconvert_exporter": "python",
   "pygments_lexer": "ipython2",
   "version": "2.7.6"
  }
 },
 "nbformat": 4,
 "nbformat_minor": 0
}
