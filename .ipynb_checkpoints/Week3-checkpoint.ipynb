{
 "cells": [
  {
   "cell_type": "markdown",
   "metadata": {},
   "source": [
    "# Vorige keer:\n",
    "- For loops\n",
    "- een aantal keer herhalen\n",
    "    - met een lijst/tuple/dict of een aantal getallen (range)\n",
    "    - alles achter de inspring wordt herhaald\n",
    "```\n",
    "for i in range(10):\n",
    "    print(i)\n",
    "```\n",
    "\n",
    "Vandaag:\n",
    "- while ... true\n",
    "- functies\n",
    "- Week3Case1.ipynb\n",
    "- Week2shopsandlocations.py\n",
    "\n",
    "*En natuurlijk:*\n",
    "www.kaggle.com, www.huggingface.co, de examenvragen (Week2examenvragen.ipynb)\n",
    "Alles staat op www.github.com/sebastiaanbekker/ROCVA_python"
   ]
  },
  {
   "cell_type": "markdown",
   "metadata": {},
   "source": [
    "# While true\n",
    "\n",
    "Combinatie van een loop met een if statement.\n",
    "De loop blijft herhalen zolang de if statement waar is.\n",
    "\n"
   ]
  },
  {
   "cell_type": "code",
   "execution_count": 1,
   "metadata": {
    "ExecuteTime": {
     "end_time": "2023-05-30T06:50:21.298344Z",
     "start_time": "2023-05-30T06:50:21.287612Z"
    }
   },
   "outputs": [
    {
     "name": "stdout",
     "output_type": "stream",
     "text": [
      "Dit is de 1e keer dat de loop wordt uitgevoerd\n",
      "Dit is de 2e keer dat de loop wordt uitgevoerd\n",
      "Dit is de 3e keer dat de loop wordt uitgevoerd\n",
      "Dit is de 4e keer dat de loop wordt uitgevoerd\n",
      "Dit is de 5e keer dat de loop wordt uitgevoerd\n",
      "Dit is de 6e keer dat de loop wordt uitgevoerd\n",
      "Dit is de 7e keer dat de loop wordt uitgevoerd\n",
      "Dit is de 8e keer dat de loop wordt uitgevoerd\n",
      "Dit is de 9e keer dat de loop wordt uitgevoerd\n"
     ]
    }
   ],
   "source": [
    "i=1\n",
    "while i < 10:\n",
    "    print(f\"Dit is de {i}e keer dat de loop wordt uitgevoerd\") #met een f tussen de hakkjes kun je een variabele in een string zetten{}\n",
    "    i = i + 1"
   ]
  },
  {
   "cell_type": "markdown",
   "metadata": {},
   "source": [
    "##\n",
    "Net als bij *if*:\n",
    "-dubbele punt na de check\n",
    "- alles wat in de loop hoort: inspringen\n",
    "- while True: # oneindige loop\n",
    "- break stopt de loop\n",
    "\n"
   ]
  },
  {
   "cell_type": "code",
   "execution_count": 19,
   "metadata": {
    "ExecuteTime": {
     "end_time": "2023-05-24T17:44:56.319942Z",
     "start_time": "2023-05-24T17:44:48.604790Z"
    }
   },
   "outputs": [
    {
     "name": "stdout",
     "output_type": "stream",
     "text": [
      "Wrong password!\n",
      "Correct password!\n"
     ]
    }
   ],
   "source": [
    "correct_password = \"password123\"\n",
    "while True:\n",
    "    password = input(\"Enter the password: \")\n",
    "    if password != correct_password:\n",
    "        print(\"Wrong password!\")\n",
    "    else:\n",
    "        print(\"Correct password!\")\n",
    "        break"
   ]
  },
  {
   "cell_type": "markdown",
   "metadata": {},
   "source": [
    "# Functies"
   ]
  },
  {
   "cell_type": "markdown",
   "metadata": {},
   "source": [
    "Code wordt uitgevoerd van boven naar beneden:."
   ]
  },
  {
   "cell_type": "code",
   "execution_count": 5,
   "metadata": {
    "ExecuteTime": {
     "end_time": "2023-05-24T16:55:55.488442Z",
     "start_time": "2023-05-24T16:55:55.479898Z"
    }
   },
   "outputs": [
    {
     "name": "stdout",
     "output_type": "stream",
     "text": [
      "appels: 10\n"
     ]
    }
   ],
   "source": [
    "appels = 10\n",
    "print(f\"appels: {appels}\") ## Oh ja: dit is een slimme tip om een variabele te printen met een tekst erbij\n",
    "appels = 20"
   ]
  },
  {
   "cell_type": "markdown",
   "metadata": {},
   "source": [
    "\n",
    "# Functies\n",
    "Functies zijn stukken code die je vaker kan gebruiken en aanroepen, ook als ze eerder in het programma staan.\n",
    "Ze kunnen in programma s in losse files staan, zodat je het overzicht houdt.\n",
    "Je kunt acties uitvoeren, maar meestal geef je het resultaat terug. Dat heet een return value.\n",
    "\n",
    "Hoe bouw je een functie?\n"
   ]
  },
  {
   "cell_type": "code",
   "execution_count": 8,
   "metadata": {
    "ExecuteTime": {
     "end_time": "2023-05-24T17:08:44.687474Z",
     "start_time": "2023-05-24T17:08:44.677835Z"
    }
   },
   "outputs": [],
   "source": [
    "def bereken_bmi(lengte, gewicht):\n",
    "    bmi = gewicht / (lengte * lengte)\n",
    "    return bmi"
   ]
  },
  {
   "cell_type": "markdown",
   "metadata": {},
   "source": [
    "Denk goed na over de naam van de functie en de parameters. Dat maakt het makkelijker om te lezen en te begrijpen. Zeker als je de functie later wil gebruiken."
   ]
  },
  {
   "cell_type": "code",
   "execution_count": 10,
   "metadata": {
    "ExecuteTime": {
     "end_time": "2023-05-24T17:10:00.641300Z",
     "start_time": "2023-05-24T17:10:00.635612Z"
    }
   },
   "outputs": [
    {
     "name": "stdout",
     "output_type": "stream",
     "text": [
      "0.0024691358024691358\n",
      "0.0027160493827160493\n"
     ]
    }
   ],
   "source": [
    "print(bereken_bmi(180,80))\n",
    "print(bereken_bmi(180,88))"
   ]
  },
  {
   "cell_type": "code",
   "execution_count": null,
   "metadata": {},
   "outputs": [],
   "source": []
  }
 ],
 "metadata": {
  "kernelspec": {
   "display_name": "Python 3 (ipykernel)",
   "language": "python",
   "name": "python3"
  },
  "language_info": {
   "codemirror_mode": {
    "name": "ipython",
    "version": 3
   },
   "file_extension": ".py",
   "mimetype": "text/x-python",
   "name": "python",
   "nbconvert_exporter": "python",
   "pygments_lexer": "ipython3",
   "version": "3.10.9"
  }
 },
 "nbformat": 4,
 "nbformat_minor": 1
}
