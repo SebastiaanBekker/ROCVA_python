{
 "cells": [
  {
   "cell_type": "code",
   "execution_count": 15,
   "metadata": {
    "ExecuteTime": {
     "end_time": "2023-05-22T12:29:49.606921Z",
     "start_time": "2023-05-22T12:29:49.601069Z"
    }
   },
   "outputs": [],
   "source": [
    "# Print de volgende zin op meerdere regels met behulp van escape sequences en een enkele print() functie:\n",
    "# Python\n",
    "# is\n",
    "# leuk\n"
   ]
  },
  {
   "cell_type": "code",
   "execution_count": 1,
   "metadata": {
    "ExecuteTime": {
     "end_time": "2023-05-22T12:17:05.769046Z",
     "start_time": "2023-05-22T12:17:05.766310Z"
    },
    "collapsed": true
   },
   "outputs": [
    {
     "ename": "SyntaxError",
     "evalue": "unterminated string literal (detected at line 3) (1720991164.py, line 3)",
     "output_type": "error",
     "traceback": [
      "\u001b[0;36m  Cell \u001b[0;32mIn[1], line 3\u001b[0;36m\u001b[0m\n\u001b[0;31m    print(\"Je bent te jong om deze film te bekijken.\\\")\u001b[0m\n\u001b[0m          ^\u001b[0m\n\u001b[0;31mSyntaxError\u001b[0m\u001b[0;31m:\u001b[0m unterminated string literal (detected at line 3)\n"
     ]
    }
   ],
   "source": [
    "leeftijd = 18\n",
    "if leeftijd < 18:\n",
    "    print(\"Je bent te jong om deze film te bekijken.\\\")\n",
    "else:\n",
    "    print(\"Veel plezier met de film!\")\n"
   ]
  },
  {
   "cell_type": "code",
   "execution_count": 2,
   "metadata": {
    "ExecuteTime": {
     "end_time": "2023-05-22T12:17:35.839909Z",
     "start_time": "2023-05-22T12:17:35.835783Z"
    }
   },
   "outputs": [
    {
     "ename": "SyntaxError",
     "evalue": "invalid syntax (3800238736.py, line 6)",
     "output_type": "error",
     "traceback": [
      "\u001b[0;36m  Cell \u001b[0;32mIn[2], line 6\u001b[0;36m\u001b[0m\n\u001b[0;31m    print(\"a is kleiner dan b\".)\u001b[0m\n\u001b[0m                               ^\u001b[0m\n\u001b[0;31mSyntaxError\u001b[0m\u001b[0;31m:\u001b[0m invalid syntax\n"
     ]
    }
   ],
   "source": [
    "a = 5\n",
    "b = 7\n",
    "if a > b:\n",
    "    print(\"a is groter dan b.\")\n",
    "else:\n",
    "    print(\"a is kleiner dan b\".)\n",
    "\n"
   ]
  },
  {
   "cell_type": "code",
   "execution_count": 6,
   "metadata": {
    "ExecuteTime": {
     "end_time": "2023-05-22T12:21:41.506725Z",
     "start_time": "2023-05-22T12:21:41.498383Z"
    }
   },
   "outputs": [
    {
     "name": "stdout",
     "output_type": "stream",
     "text": [
      "Dit is de eerste regel. En dit de tweede regel.\n"
     ]
    }
   ],
   "source": [
    "## print het volgende op twee regels:\n",
    "print(\"Dit is de eerste regel. En dit de tweede regel.\")"
   ]
  },
  {
   "cell_type": "code",
   "execution_count": 11,
   "metadata": {
    "ExecuteTime": {
     "end_time": "2023-05-22T12:24:24.590838Z",
     "start_time": "2023-05-22T12:24:22.338497Z"
    }
   },
   "outputs": [
    {
     "name": "stdout",
     "output_type": "stream",
     "text": [
      "Ik controleer of je deze film mag zien...\n",
      "Je bent \te jong voor deze film.\n"
     ]
    }
   ],
   "source": [
    "## Zorg dat de code werkt en pas het antwoord zo aan dat hij het op de juiste manier print. Probeer allebei de opties van het if statement goed te krijgen.\n",
    "leeftijd = int(input(\"Hoe oud ben je? \"))\n",
    "\n",
    "print(\"Ik controleer of je deze film mag zien...\")\n",
    "if leeftijd >18:\n",
    "    print(\"Je mag deze film \\n zien!\")\n",
    "else:\n",
    "    print(\"Je bent \\te jong voor deze film.\")\n"
   ]
  },
  {
   "cell_type": "code",
   "execution_count": 17,
   "metadata": {
    "ExecuteTime": {
     "end_time": "2023-05-22T12:30:33.714238Z",
     "start_time": "2023-05-22T12:30:33.708414Z"
    }
   },
   "outputs": [
    {
     "name": "stdout",
     "output_type": "stream",
     "text": [
      "Het bestand bevindt zich in \"C:\n",
      "ieuwe folder\".\n"
     ]
    }
   ],
   "source": [
    "# Het bestand bevindt zich in \"C:\\nieuwe_map\".\n",
    "print(\"Het bestand bevindt zich in \\\"C:\\nieuwe folder\\\".\")"
   ]
  },
  {
   "cell_type": "code",
   "execution_count": null,
   "metadata": {},
   "outputs": [],
   "source": []
  }
 ],
 "metadata": {
  "kernelspec": {
   "display_name": "Python 3 (ipykernel)",
   "language": "python",
   "name": "python3"
  },
  "language_info": {
   "codemirror_mode": {
    "name": "ipython",
    "version": 3
   },
   "file_extension": ".py",
   "mimetype": "text/x-python",
   "name": "python",
   "nbconvert_exporter": "python",
   "pygments_lexer": "ipython3",
   "version": "3.10.9"
  }
 },
 "nbformat": 4,
 "nbformat_minor": 1
}
