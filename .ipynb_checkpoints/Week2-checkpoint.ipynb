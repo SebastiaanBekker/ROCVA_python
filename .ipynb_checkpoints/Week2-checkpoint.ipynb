{
 "cells": [
  {
   "cell_type": "markdown",
   "metadata": {},
   "source": [
    "# Week 2\n",
    "- Wat gaan we doen? Wat zou je zelf kunnen gaan doen?\n",
    "- vorige week in 5 minuten\n",
    "- Aan de slag!"
   ]
  },
  {
   "cell_type": "markdown",
   "metadata": {},
   "source": [
    "# Wat gaan we doen?\n",
    "- Aan de slag met *conditional statements*\n",
    "- [https://github.com/SebastiaanBekker/ROCVA_python](https://github.com/SebastiaanBekker/ROCVA_python) Hier staan voorbeelden, cases en code: Week2\n",
    "- Zelf aan de slag? Denk dan even aan het volgende:\n",
    "    - Ook (of vooral) met ChatGPT moet je nog weten wat je doet of wat het programma doet.\n",
    "    - Wil je kijken/leren? >> video's (Pim heeft er al een paar gedeeld)\n",
    "    - Wil je zelf gaan proberen? (met chatGPT ;-), dan is werken met data interessant. Ik kan een case van mijn werk regelen als je wil.\n",
    "        - Je kunt ook naar [Kaggle](https://kaggle.com) kijken en later met de wedstrijden mee gaan doen.\n",
    "        - Of aan de slag gaan met [hugging face](https://huggingface.co), de open source chatGPT"
   ]
  },
  {
   "cell_type": "markdown",
   "metadata": {},
   "source": [
    "## Vorige week in 5 minuten\n",
    "\"Hello world\"\n",
    "4 is geen \"4\"\n",
    "[], {},() > lists, dictionaries, tuples\n",
    "\n",
    "Heb je tips of feedback voor ons?"
   ]
  },
  {
   "cell_type": "markdown",
   "metadata": {},
   "source": [
    "# Aan de slag!\n",
    "\n",
    "if...elif..else\n"
   ]
  },
  {
   "cell_type": "code",
   "execution_count": 6,
   "metadata": {
    "ExecuteTime": {
     "end_time": "2023-05-15T09:26:57.756237Z",
     "start_time": "2023-05-15T09:26:57.755323Z"
    }
   },
   "outputs": [
    {
     "name": "stdout",
     "output_type": "stream",
     "text": [
      "Er zijn meer peren!\n"
     ]
    }
   ],
   "source": [
    "appels = 6\n",
    "peren = 7\n",
    "\n",
    "if appels > peren: # als er meer appels dan peren zijn\n",
    "    print(\"Er zijn meer appels!\")\n",
    "elif appels < peren: # Als er niet meer appels zijn, zijn er dan meer peren dan appels?\n",
    "    print(\"Er zijn meer peren!\")\n",
    "else: # In alle andere gevallen\n",
    "    print(\"Er zijn evenveel appels en peren\")\n"
   ]
  },
  {
   "cell_type": "markdown",
   "metadata": {},
   "source": [
    "# Een paar dingen:\n",
    "- Je hoeft elif/else niet altijd te gebruiken na de if\n",
    "- Programma leest weer van boven naar onder.\n",
    "- Is het deel na de if/elif/else waar:\n",
    "    -   < : kleiner dan\n",
    "    -   > : groter dan\n",
    "    -   >= : groter dan of gelijk\n",
    "    -   == : is gelijk\n",
    "    -  != is niet gelijk\n",
    "- Dubbele punt na het statement\n"
   ]
  },
  {
   "cell_type": "markdown",
   "metadata": {},
   "source": []
  },
  {
   "cell_type": "markdown",
   "metadata": {},
   "source": [
    "# Tab na de if\n",
    "Zoals gezegd, proberen de makers Python zo makkelijk mogelijk te houden.\n",
    "Dat betekent wel dat ze ergens moeten weten wanneer een deel van een programma, zoals een if/elif/else begint en stopt.\n",
    "\n",
    "De * tab * (inspringen) geeft nogal eens errors ;-)\n",
    "\n"
   ]
  },
  {
   "cell_type": "markdown",
   "metadata": {},
   "source": [
    "## Vorige week:\n",
    "- If statements en oefeningen daarmee.\n",
    "- Wil je zelf aan de slag? Kaggle of Hugging face (maar ook iets tussendoor hieronder)\n",
    "- Code en links op Github\n",
    "\n",
    "## Deze week:\n",
    "- Verder met oefeningen rond if statements, maar nu met escape sequences erbij\n",
    "- For en wile true\n",
    "\n",
    "##### Als er tijd is of je verder wil: Kijk even naar de examenvragen. We hebben een aantal oefeningen met de stof tot nu toe. Goed om te toetsen waar je staat en hoe het tot nu toe gaat.\n"
   ]
  },
  {
   "cell_type": "markdown",
   "metadata": {},
   "source": [
    "# Escape sequences (meerdere tekens die zorgen dat je code anders werkt), escape character is het eerste teken (backslash). Zo weet Python waar te beginnen.\n",
    "De meest gebruikte:\n",
    "- \\n : nieuwe regel\n",
    "- \\t : tab\n",
    "- \\r : carriage return\n",
    "- \\b : backspace\n",
    "- \": Dubbele aanhalingstekens\n",
    "- ': Enkele aanhalingstekens\n",
    "\n",
    "Als je toch een quote wil printen:\n",
    "\\\"\n",
    "\n",
    "\n",
    "\n",
    "\n",
    "\n"
   ]
  },
  {
   "cell_type": "code",
   "execution_count": 8,
   "metadata": {
    "ExecuteTime": {
     "end_time": "2023-05-22T12:03:47.057744Z",
     "start_time": "2023-05-22T12:03:47.049451Z"
    }
   },
   "outputs": [
    {
     "name": "stdout",
     "output_type": "stream",
     "text": [
      "Dit staat op \n",
      "twee regels\n"
     ]
    }
   ],
   "source": [
    "# Voorbeeld\n",
    "print(\"Dit staat op \\ntwee regels\")"
   ]
  },
  {
   "cell_type": "code",
   "execution_count": 2,
   "metadata": {
    "ExecuteTime": {
     "end_time": "2023-05-22T12:02:20.846592Z",
     "start_time": "2023-05-22T12:02:20.834730Z"
    }
   },
   "outputs": [
    {
     "name": "stdout",
     "output_type": "stream",
     "text": [
      "Dit is een \"quote\"\n"
     ]
    }
   ],
   "source": [
    "# Voorbeeld\n",
    "print(\"Dit is een \\\"quote\\\"\")"
   ]
  },
  {
   "cell_type": "markdown",
   "metadata": {},
   "source": [
    "## En aan de slag!\n",
    "[De oefeningen van vorige week](./Week2Case1.ipynb)\n",
    "[De oefeningen van vorige week](./Week2Case2.ipynb)\n",
    "[De examen oefeningen](./Week2Examen.ipynb)\n"
   ]
  },
  {
   "cell_type": "markdown",
   "metadata": {},
   "source": [
    "# For loops\n",
    "\n",
    "Bij 'if...elif... else' kijkt het programma naar de vraag die je stelt. (Is a groter dan b)\n",
    "Bij een for loop herhaal je een stukje code een aantal keer.\n",
    "\n",
    "Dat kan bijvoorbeeld alles in een lijst, dictionary of tuple zijn.\n",
    "- Je geeft dan aan for *naam* in *lijst*:\n",
    "     - Je kunt dan met naam de waarde van de lijst gebruiken\n",
    "\n",
    "Maar ook een aantal keer herhalen werkt met een for loop:\n",
    " for i in range(3, 10): Dan doe je iets vanaf 3 tot aan tien.\n"
   ]
  },
  {
   "cell_type": "code",
   "execution_count": 10,
   "metadata": {
    "ExecuteTime": {
     "end_time": "2023-05-22T12:35:27.528692Z",
     "start_time": "2023-05-22T12:35:27.523902Z"
    }
   },
   "outputs": [
    {
     "name": "stdout",
     "output_type": "stream",
     "text": [
      "maandagavond\n",
      "dinsdagavond\n",
      "woensdagavond\n",
      "donderdagavond\n",
      "vrijdagavond\n",
      "zaterdagavond\n",
      "zondagavond\n"
     ]
    }
   ],
   "source": [
    "# Voorbeeld met een tuple\n",
    "dag_van_de_week = (\"maandag\", \"dinsdag\", \"woensdag\", \"donderdag\", \"vrijdag\", \"zaterdag\", \"zondag\")\n",
    "for dag in dag_van_de_week:\n",
    "    print(dag+ \"avond\")\n"
   ]
  },
  {
   "cell_type": "code",
   "execution_count": 13,
   "metadata": {
    "ExecuteTime": {
     "end_time": "2023-05-22T12:37:25.476412Z",
     "start_time": "2023-05-22T12:37:25.469741Z"
    }
   },
   "outputs": [
    {
     "name": "stdout",
     "output_type": "stream",
     "text": [
      "https://www.nu.nl/index.html\n",
      "https://www.nu.nl/index.php\n",
      "https://www.nu.nl/index.asp\n",
      "https://www.nu.nl/index.aspx\n",
      "https://www.nu.nl/index.htm\n",
      "https://www.nu.nl/index.jsp\n",
      "https://www.nu.nl/index.py\n",
      "https://www.nos.nl/index.html\n",
      "https://www.nos.nl/index.php\n",
      "https://www.nos.nl/index.asp\n",
      "https://www.nos.nl/index.aspx\n",
      "https://www.nos.nl/index.htm\n",
      "https://www.nos.nl/index.jsp\n",
      "https://www.nos.nl/index.py\n",
      "https://www.ad.nl/index.html\n",
      "https://www.ad.nl/index.php\n",
      "https://www.ad.nl/index.asp\n",
      "https://www.ad.nl/index.aspx\n",
      "https://www.ad.nl/index.htm\n",
      "https://www.ad.nl/index.jsp\n",
      "https://www.ad.nl/index.py\n",
      "https://www.telegraaf.nl/index.html\n",
      "https://www.telegraaf.nl/index.php\n",
      "https://www.telegraaf.nl/index.asp\n",
      "https://www.telegraaf.nl/index.aspx\n",
      "https://www.telegraaf.nl/index.htm\n",
      "https://www.telegraaf.nl/index.jsp\n",
      "https://www.telegraaf.nl/index.py\n",
      "https://www.parool.nl/index.html\n",
      "https://www.parool.nl/index.php\n",
      "https://www.parool.nl/index.asp\n",
      "https://www.parool.nl/index.aspx\n",
      "https://www.parool.nl/index.htm\n",
      "https://www.parool.nl/index.jsp\n",
      "https://www.parool.nl/index.py\n",
      "https://www.trouw.nl/index.html\n",
      "https://www.trouw.nl/index.php\n",
      "https://www.trouw.nl/index.asp\n",
      "https://www.trouw.nl/index.aspx\n",
      "https://www.trouw.nl/index.htm\n",
      "https://www.trouw.nl/index.jsp\n",
      "https://www.trouw.nl/index.py\n",
      "https://www.volkskrant.nl/index.html\n",
      "https://www.volkskrant.nl/index.php\n",
      "https://www.volkskrant.nl/index.asp\n",
      "https://www.volkskrant.nl/index.aspx\n",
      "https://www.volkskrant.nl/index.htm\n",
      "https://www.volkskrant.nl/index.jsp\n",
      "https://www.volkskrant.nl/index.py\n"
     ]
    }
   ],
   "source": [
    "# voorbeeld met twee lists:\n",
    "websites = [\"nu.nl\", \"nos.nl\", \"ad.nl\", \"telegraaf.nl\", \"parool.nl\", \"trouw.nl\", \"volkskrant.nl\"]\n",
    "paginas = (\"index.html\", \"index.php\", \"index.asp\", \"index.aspx\", \"index.htm\", \"index.jsp\", \"index.py\")\n",
    "for website in websites:\n",
    "    for pagina in paginas:\n",
    "        print(\"https://www.\" + website+\"/\"+pagina)\n"
   ]
  },
  {
   "cell_type": "code",
   "execution_count": 14,
   "metadata": {
    "ExecuteTime": {
     "end_time": "2023-05-22T12:39:09.047051Z",
     "start_time": "2023-05-22T12:39:09.030084Z"
    }
   },
   "outputs": [
    {
     "name": "stdout",
     "output_type": "stream",
     "text": [
      "Piet heeft een 7\n",
      "Klaas heeft een 8\n",
      "Jan heeft een 9\n",
      "Kees heeft een 10\n"
     ]
    }
   ],
   "source": [
    "# Voorbeeld met een dictionary\n",
    "# Een dictionary heeft een key en een value\n",
    "studenten = {\"Piet\": 7, \"Klaas\": 8, \"Jan\": 9, \"Kees\": 10}\n",
    "for student in studenten:\n",
    "    print(student + \" heeft een \" + str(studenten[student]))\n"
   ]
  },
  {
   "cell_type": "code",
   "execution_count": 19,
   "metadata": {
    "ExecuteTime": {
     "end_time": "2023-05-22T18:07:59.341651Z",
     "start_time": "2023-05-22T18:07:59.332360Z"
    }
   },
   "outputs": [
    {
     "name": "stdout",
     "output_type": "stream",
     "text": [
      "Dit is de 3e keer dat ik dit print\n",
      "Dit is de 4e keer dat ik dit print\n",
      "Dit is de 5e keer dat ik dit print\n",
      "Dit is de 6e keer dat ik dit print\n",
      "Dit is de 7e keer dat ik dit print\n",
      "Dit is de 8e keer dat ik dit print\n",
      "Dit is de 9e keer dat ik dit print\n"
     ]
    }
   ],
   "source": [
    "#voorbeeld met een aantal keer herhalen\n",
    "for i in range(3, 10):\n",
    "    print(\"Dit is de \" + str(i) + \"e keer dat ik dit print\")"
   ]
  },
  {
   "cell_type": "code",
   "execution_count": null,
   "metadata": {},
   "outputs": [],
   "source": []
  }
 ],
 "metadata": {
  "kernelspec": {
   "display_name": "Python 3 (ipykernel)",
   "language": "python",
   "name": "python3"
  },
  "language_info": {
   "codemirror_mode": {
    "name": "ipython",
    "version": 3
   },
   "file_extension": ".py",
   "mimetype": "text/x-python",
   "name": "python",
   "nbconvert_exporter": "python",
   "pygments_lexer": "ipython3",
   "version": "3.10.9"
  }
 },
 "nbformat": 4,
 "nbformat_minor": 1
}
