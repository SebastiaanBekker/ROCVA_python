{
 "cells": [
  {
   "cell_type": "markdown",
   "source": [
    "# Week 2\n",
    "- Wat gaan we doen? Wat zou je zelf kunnen gaan doen?\n",
    "- vorige week in 5 minuten\n",
    "- Aan de slag!"
   ],
   "metadata": {
    "collapsed": false
   }
  },
  {
   "cell_type": "markdown",
   "source": [
    "# Wat gaan we doen?\n",
    "- Aan de slag met *conditional statements*\n",
    "- [https://github.com/SebastiaanBekker/ROCVA_python](https://github.com/SebastiaanBekker/ROCVA_python) Hier staan voorbeelden, cases en code: Week2\n",
    "- Zelf aan de slag? Denk dan even aan het volgende:\n",
    "    - Ook (of vooral) met ChatGPT moet je nog weten wat je doet of wat het programma doet.\n",
    "    - Wil je kijken/leren? >> video's (Pim heeft er al een paar gedeeld)\n",
    "    - Wil je zelf gaan proberen? (met chatGPT ;-), dan is werken met data interessant. Ik kan een case van mijn werk regelen als je wil.\n",
    "        - Je kunt ook naar [Kaggle](https://kaggle.com) kijken en later met de wedstrijden mee gaan doen.\n",
    "        - Of aan de slag gaan met [hugging face](https://huggingface.co), de open source chatGPT"
   ],
   "metadata": {
    "collapsed": false
   }
  },
  {
   "cell_type": "markdown",
   "source": [
    "## Vorige week in 5 minuten\n",
    "\"Hello world\"\n",
    "4 is geen \"4\"\n",
    "[], {},() > lists, dictionaries, tuples\n",
    "\n",
    "Heb je tips of feedback voor ons?"
   ],
   "metadata": {
    "collapsed": false
   }
  },
  {
   "cell_type": "markdown",
   "source": [
    "# Aan de slag!\n",
    "\n",
    "if...elif..else\n"
   ],
   "metadata": {
    "collapsed": false
   }
  },
  {
   "cell_type": "code",
   "execution_count": 6,
   "outputs": [
    {
     "name": "stdout",
     "output_type": "stream",
     "text": [
      "Er zijn meer peren!\n"
     ]
    }
   ],
   "source": [
    "appels = 6\n",
    "peren = 7\n",
    "\n",
    "if appels > peren: # als er meer appels dan peren zijn\n",
    "    print(\"Er zijn meer appels!\")\n",
    "elif appels < peren: # Als er niet meer appels zijn, zijn er dan meer peren dan appels?\n",
    "    print(\"Er zijn meer peren!\")\n",
    "else: # In alle andere gevallen\n",
    "    print(\"Er zijn evenveel appels en peren\")\n"
   ],
   "metadata": {
    "collapsed": false,
    "ExecuteTime": {
     "end_time": "2023-05-15T09:26:57.756237Z",
     "start_time": "2023-05-15T09:26:57.755323Z"
    }
   }
  },
  {
   "cell_type": "markdown",
   "source": [
    "# Een paar dingen:\n",
    "- Je hoeft elif/else niet altijd te gebruiken na de if\n",
    "- Programma leest weer van boven naar onder.\n",
    "- Is het deel na de if/elif/else waar:\n",
    "    -   < : kleiner dan\n",
    "    -   > : groter dan\n",
    "    -   >= : groter dan of gelijk\n",
    "    -   == : is gelijk\n",
    "    -  != is niet gelijk\n",
    "- Dubbele punt na het statement\n"
   ],
   "metadata": {
    "collapsed": false
   }
  },
  {
   "cell_type": "markdown",
   "source": [],
   "metadata": {
    "collapsed": false
   }
  },
  {
   "cell_type": "markdown",
   "source": [
    "# Tab na de if\n",
    "Zoals gezegd, proberen de makers Python zo makkelijk mogelijk te houden.\n",
    "Dat betekent wel dat ze ergens moeten weten wanneer een deel van een programma, zoals een if/elif/else begint en stopt.\n",
    "\n",
    "De * tab * (inspringen) geeft nogal eens errors ;-)\n",
    "\n"
   ],
   "metadata": {
    "collapsed": false
   }
  },
  {
   "cell_type": "code",
   "execution_count": null,
   "outputs": [],
   "source": [],
   "metadata": {
    "collapsed": false
   }
  }
 ],
 "metadata": {
  "kernelspec": {
   "display_name": "Python 3",
   "language": "python",
   "name": "python3"
  },
  "language_info": {
   "codemirror_mode": {
    "name": "ipython",
    "version": 2
   },
   "file_extension": ".py",
   "mimetype": "text/x-python",
   "name": "python",
   "nbconvert_exporter": "python",
   "pygments_lexer": "ipython2",
   "version": "2.7.6"
  }
 },
 "nbformat": 4,
 "nbformat_minor": 0
}
