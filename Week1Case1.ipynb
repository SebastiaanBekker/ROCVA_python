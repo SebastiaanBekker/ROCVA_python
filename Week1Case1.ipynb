{
 "cells": [
  {
   "cell_type": "markdown",
   "metadata": {},
   "source": [
    "## Tien opdrachten met datatypes om zelf te proberen/programmeren\n"
   ]
  },
  {
   "cell_type": "code",
   "execution_count": null,
   "metadata": {},
   "outputs": [],
   "source": [
    "# Er zijn twee appels en drie peren, hoeveel stuks fruit zijn er?\n"
   ]
  },
  {
   "cell_type": "code",
   "execution_count": null,
   "metadata": {},
   "outputs": [],
   "source": [
    "#Een ijzerplaat is  2.34322 millimeter dik, de volgende ijzerplaat is 2.35222 millimeter dik. wat is de totale dikte?\n"
   ]
  },
  {
   "cell_type": "code",
   "execution_count": null,
   "metadata": {},
   "outputs": [],
   "source": [
    "#   En wat is de gemiddelde dikte van de twee platen?"
   ]
  },
  {
   "cell_type": "code",
   "execution_count": null,
   "metadata": {},
   "outputs": [],
   "source": [
    "# Je hebt 200 euro op je rekening en gaat 212 euro af, wat is je nieuwe saldo?"
   ]
  },
  {
   "cell_type": "code",
   "execution_count": null,
   "metadata": {},
   "outputs": [],
   "source": [
    "# Er zijn 3 rijen met 12 stoelen, hoeveel stoelen zijn er in totaal."
   ]
  },
  {
   "cell_type": "markdown",
   "metadata": {},
   "source": [
    "# list, tuple, dict\n",
    "\n",
    "Welke kies en hoe maak je m?"
   ]
  },
  {
   "cell_type": "code",
   "execution_count": null,
   "metadata": {},
   "outputs": [],
   "source": [
    "# Je wilt een overzicht met de dagen van de week."
   ]
  },
  {
   "cell_type": "code",
   "execution_count": null,
   "metadata": {},
   "outputs": [],
   "source": [
    "# Je wilt een reeks met verschillende getallen, die je leest uit een meter in een machine."
   ]
  },
  {
   "cell_type": "code",
   "execution_count": null,
   "metadata": {},
   "outputs": [],
   "source": [
    "# Je wilt een cijferlijst met leerlingen, met naam, voornaam en cijfer voor vijf klassen."
   ]
  }
 ],
 "metadata": {
  "kernelspec": {
   "display_name": "Python 3 (ipykernel)",
   "language": "python",
   "name": "python3"
  },
  "language_info": {
   "codemirror_mode": {
    "name": "ipython",
    "version": 3
   },
   "file_extension": ".py",
   "mimetype": "text/x-python",
   "name": "python",
   "nbconvert_exporter": "python",
   "pygments_lexer": "ipython3",
   "version": "3.10.9"
  }
 },
 "nbformat": 4,
 "nbformat_minor": 1
}
