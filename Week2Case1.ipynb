{
 "cells": [
  {
   "cell_type": "markdown",
   "source": [
    "# Oefeningen met if en datatypes\n",
    "Let op: er kunnen meer fouten zitten in 1 opgave!\n"
   ],
   "metadata": {
    "collapsed": false
   }
  },
  {
   "cell_type": "code",
   "execution_count": 12,
   "outputs": [
    {
     "name": "stdout",
     "output_type": "stream",
     "text": [
      "Ik koop een nieuwe telefoon\n"
     ]
    }
   ],
   "source": [
    "# Kun je deze code afmaken?\n",
    "# Als ik meer dan 100 euro heb, dan koop ik een nieuwe telefoon, anders koop ik een nieuwe laptop\n",
    "banksaldo = int(input(\"Geef een bedrag: \"))\n",
    "\n",
    "## Jouw code hier\n",
    "    print(\"Ik koop een nieuwe telefoon\")\n",
    "else:\n",
    "    print(\"Ik koop een nieuwe laptop\")"
   ],
   "metadata": {
    "collapsed": false,
    "ExecuteTime": {
     "end_time": "2023-05-15T09:30:14.586764Z",
     "start_time": "2023-05-15T09:30:10.776363Z"
    }
   }
  },
  {
   "cell_type": "code",
   "execution_count": null,
   "outputs": [],
   "source": [
    "## Hoe zorg je dat je bij 100 euro ook nog een telefoon koopt?\n"
   ],
   "metadata": {
    "collapsed": false
   }
  },
  {
   "cell_type": "code",
   "execution_count": 3,
   "outputs": [
    {
     "ename": "SyntaxError",
     "evalue": "expected ':' (4119518192.py, line 2)",
     "output_type": "error",
     "traceback": [
      "\u001B[0;36m  Cell \u001B[0;32mIn[3], line 2\u001B[0;36m\u001B[0m\n\u001B[0;31m    if leeftijd >= 18\u001B[0m\n\u001B[0m                     ^\u001B[0m\n\u001B[0;31mSyntaxError\u001B[0m\u001B[0;31m:\u001B[0m expected ':'\n"
     ]
    }
   ],
   "source": [
    "leeftijd = 22\n",
    "if leeftijd >= 18\n",
    "    print(\"Je bent meerderjarig.\")"
   ],
   "metadata": {
    "collapsed": false,
    "ExecuteTime": {
     "end_time": "2023-05-14T07:36:31.289335Z",
     "start_time": "2023-05-14T07:36:31.280553Z"
    }
   }
  },
  {
   "cell_type": "code",
   "execution_count": 7,
   "outputs": [
    {
     "name": "stdout",
     "output_type": "stream",
     "text": [
      "getal 1 is groter dan getal 2.\n"
     ]
    }
   ],
   "source": [
    "getal 1 = \"5\"\n",
    "getal 2 = 2\n",
    "if getal1 > getal2:\n",
    "    print(\"getal 1 is groter dan getal 2.\")\n",
    "else:"
   ],
   "metadata": {
    "collapsed": false,
    "ExecuteTime": {
     "end_time": "2023-05-15T09:28:09.606732Z",
     "start_time": "2023-05-15T09:28:09.598317Z"
    }
   }
  },
  {
   "cell_type": "code",
   "execution_count": 8,
   "outputs": [
    {
     "ename": "SyntaxError",
     "evalue": "invalid syntax (449384065.py, line 2)",
     "output_type": "error",
     "traceback": [
      "\u001B[0;36m  Cell \u001B[0;32mIn[8], line 2\u001B[0;36m\u001B[0m\n\u001B[0;31m    elif temperatuur > 20:\u001B[0m\n\u001B[0m    ^\u001B[0m\n\u001B[0;31mSyntaxError\u001B[0m\u001B[0;31m:\u001B[0m invalid syntax\n"
     ]
    }
   ],
   "source": [
    "temperatuur = 30\n",
    "elif temperatuur > 20:\n",
    "    print(\"Het is lekker weer.\")"
   ],
   "metadata": {
    "collapsed": false,
    "ExecuteTime": {
     "end_time": "2023-05-15T09:28:34.546145Z",
     "start_time": "2023-05-15T09:28:34.539872Z"
    }
   }
  },
  {
   "cell_type": "code",
   "execution_count": 23,
   "outputs": [
    {
     "ename": "SyntaxError",
     "evalue": "invalid syntax (2851653633.py, line 4)",
     "output_type": "error",
     "traceback": [
      "\u001B[0;36m  Cell \u001B[0;32mIn[23], line 4\u001B[0;36m\u001B[0m\n\u001B[0;31m    else:\u001B[0m\n\u001B[0m    ^\u001B[0m\n\u001B[0;31mSyntaxError\u001B[0m\u001B[0;31m:\u001B[0m invalid syntax\n"
     ]
    }
   ],
   "source": [
    "gegeven_getal = (input(\"Geef een getal op: \"))\n",
    "if gegeven_getal > 5:\n",
    "    print(\"Het getal is groter dan 5.\")\n",
    "    else:\n",
    "        print(\"Het getal is kleiner dan 5.\")\n"
   ],
   "metadata": {
    "collapsed": false,
    "ExecuteTime": {
     "end_time": "2023-05-15T10:02:14.762174Z",
     "start_time": "2023-05-15T10:02:14.751486Z"
    }
   }
  },
  {
   "cell_type": "code",
   "execution_count": 24,
   "outputs": [
    {
     "name": "stdout",
     "output_type": "stream",
     "text": [
      "{'Liam': 'V', 'Noah': 'V', 'Lucas': 'V', 'Milan': 6, 'Emma': 'V', 'Sophie': 4, 'Bram': 'V', 'Julia': 5, 'Finn': 'V', 'Lotte': 'V'}\n"
     ]
    }
   ],
   "source": [
    "resultaten_engels = {\n",
    "    'Liam': 9,\n",
    "    'Noah': 7,\n",
    "    'Lucas': 8,\n",
    "    'Milan': 6,\n",
    "    'Emma': 10,\n",
    "    'Sophie': 4,\n",
    "    'Bram': 8,\n",
    "    'Julia': 5,\n",
    "    'Finn': 7,\n",
    "    'Lotte': 9\n",
    "}\n",
    "# Verander de cijfers in een V als het cijfer hoger is als een 6, anders een O\n",
    "# Print de naam en het cijfer van de leerling\n",
    "# Iterate over the students dictionary\n",
    "for student, cijfer in resultaten_engels.items():\n",
    "    if cijfer > 6:\n",
    "        resultaten_engels[student] = 'V'\n",
    "    # else:\n",
    "        # Hier je code om de anderen een 'O' te geven\n",
    "\n",
    "# Print the updated grades\n",
    "print(resultaten_engels)\n"
   ],
   "metadata": {
    "collapsed": false,
    "ExecuteTime": {
     "end_time": "2023-05-15T10:02:39.226821Z",
     "start_time": "2023-05-15T10:02:39.218765Z"
    }
   }
  },
  {
   "cell_type": "code",
   "execution_count": 25,
   "outputs": [
    {
     "ename": "IndentationError",
     "evalue": "expected an indented block after 'if' statement on line 7 (2007501967.py, line 9)",
     "output_type": "error",
     "traceback": [
      "\u001B[0;36m  Cell \u001B[0;32mIn[25], line 9\u001B[0;36m\u001B[0m\n\u001B[0;31m    else:\u001B[0m\n\u001B[0m    ^\u001B[0m\n\u001B[0;31mIndentationError\u001B[0m\u001B[0;31m:\u001B[0m expected an indented block after 'if' statement on line 7\n"
     ]
    }
   ],
   "source": [
    "studenten_engels = ('Liam', 'Noah', 'Lucas', 'Milan', 'Emma', 'Sophie', 'Bram', 'Julia', 'Finn', 'Lotte')\n",
    "\n",
    "resultaten_engels = [9, 7, 8, 6, 10, 4, 8, 5, 7, 9]\n",
    "\n",
    "# Verander de cijfers in een V als het cijfer lager is dan een 6, anders een O\n",
    "for i in range(len(resultaten_engels)):\n",
    "    if resultaten_engels[i] > 6:\n",
    "        # Hoe maak je alles boven de 6 een V?\n",
    "    else:\n",
    "        resultaten_engels[i] = 'O'\n",
    "\n",
    "for i in range(len(studenten_engels)):\n",
    "    print(f\"{studenten_engels[i]} heeft een {resultaten_engels[i]} gehaald.\")\n",
    "\n"
   ],
   "metadata": {
    "collapsed": false,
    "ExecuteTime": {
     "end_time": "2023-05-15T10:02:40.616467Z",
     "start_time": "2023-05-15T10:02:40.609073Z"
    }
   }
  },
  {
   "cell_type": "code",
   "execution_count": 27,
   "outputs": [],
   "source": [
    "input_deelbaar = int(input(\"Vul een geheel getal in: \"))\n",
    "\n",
    "if input_deelbaar % 5 == 0:\n",
    "    print(\" \") # Wat doet dit programma? en wat moet er staan?\n",
    "else:\n",
    "    print(\" \") # Wat zou je hier neerzetten\n"
   ],
   "metadata": {
    "collapsed": false,
    "ExecuteTime": {
     "end_time": "2023-05-15T10:06:08.225489Z",
     "start_time": "2023-05-15T10:06:06.660614Z"
    }
   }
  },
  {
   "cell_type": "code",
   "execution_count": null,
   "outputs": [],
   "source": [],
   "metadata": {
    "collapsed": false
   }
  }
 ],
 "metadata": {
  "kernelspec": {
   "display_name": "Python 3",
   "language": "python",
   "name": "python3"
  },
  "language_info": {
   "codemirror_mode": {
    "name": "ipython",
    "version": 2
   },
   "file_extension": ".py",
   "mimetype": "text/x-python",
   "name": "python",
   "nbconvert_exporter": "python",
   "pygments_lexer": "ipython2",
   "version": "2.7.6"
  }
 },
 "nbformat": 4,
 "nbformat_minor": 0
}
