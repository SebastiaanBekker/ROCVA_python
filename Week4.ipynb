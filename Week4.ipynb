{
 "cells": [
  {
   "cell_type": "markdown",
   "source": [
    "# Waar waren we?\n",
    "- datatypes\n",
    "    - list, tuples, dictionaries\n",
    "    - string, int\n",
    "- comments\n",
    "- if...elif..else\n",
    "- for loops\n",
    "- while loops\n",
    "- functies\n",
    "- print(f\"{}\")"
   ],
   "metadata": {
    "collapsed": false
   }
  },
  {
   "cell_type": "markdown",
   "source": [
    "# What s next?\n",
    "Extra uitleg fumcties.\n",
    "\n",
    "Verder werken aan de opdrachten:\n",
    "Week3Case1\n",
    "Week3Case2\n",
    "Week3Case3\n",
    "Week2shopsandlocations\n",
    "Week2examenvragen\n",
    "\n",
    "Als je wil, kun je kijken naar de uitwerking van de titanic case voor Kaggle. Heb 2 voorbeelden uitgewerkt die je kunt fine tunen. Ook kun je ze inleveren bij Kaggle.\n",
    "\n"
   ],
   "metadata": {
    "collapsed": false
   }
  },
  {
   "cell_type": "markdown",
   "source": [
    "# Functies deel 2"
   ],
   "metadata": {
    "collapsed": false
   }
  },
  {
   "cell_type": "code",
   "execution_count": 13,
   "outputs": [
    {
     "name": "stdout",
     "output_type": "stream",
     "text": [
      "4.5\n",
      "4\n"
     ]
    }
   ],
   "source": [
    "# voorbeeld van een functie\n",
    "def gemiddelde(a, b):\n",
    "    return (a + b) / 2\n",
    "\n",
    "print(gemiddelde(2, 7))\n",
    "print(int(gemiddelde(2, 7))) # int() zorgt ervoor dat je een geheel getal terug krijgt"
   ],
   "metadata": {
    "collapsed": false,
    "ExecuteTime": {
     "end_time": "2023-05-31T20:17:05.987550Z",
     "start_time": "2023-05-31T20:17:05.984804Z"
    }
   }
  },
  {
   "cell_type": "code",
   "execution_count": 14,
   "outputs": [
    {
     "data": {
      "text/plain": "['https://www.facebook.com/products.aspx',\n 'https://www.instagram.com/about.asp',\n 'https://www.twitter.com/about.php',\n 'https://www.google.com/products.asp',\n 'https://www.twitter.com/services.html',\n 'https://www.youtube.com/home.aspx',\n 'https://www.twitter.com/services.php',\n 'https://www.linkedin.com/contact.jsp',\n 'https://www.youtube.com/home.jsp',\n 'https://www.linkedin.com/contact.html']"
     },
     "execution_count": 14,
     "metadata": {},
     "output_type": "execute_result"
    }
   ],
   "source": [
    "import Week4functies as w4f\n",
    "\n",
    "w4f.random_urls_and_pages(10)\n"
   ],
   "metadata": {
    "collapsed": false,
    "ExecuteTime": {
     "end_time": "2023-05-31T20:18:05.850729Z",
     "start_time": "2023-05-31T20:18:05.844244Z"
    }
   }
  },
  {
   "cell_type": "markdown",
   "source": [
    "## Je kunt een functie ook in een andere functie gebruiken:"
   ],
   "metadata": {
    "collapsed": false
   }
  },
  {
   "cell_type": "code",
   "execution_count": 6,
   "outputs": [
    {
     "name": "stdout",
     "output_type": "stream",
     "text": [
      "https://www.instagram.com/about.aspx\n",
      "https://www.google.com/about.aspx\n",
      "https://www.twitter.com/products.asp\n"
     ]
    }
   ],
   "source": [
    "def print_list_on_new_line(list):\n",
    "    for item in list:\n",
    "        print(item)\n",
    "\n",
    "print_list_on_new_line(w4f.random_urls_and_pages())"
   ],
   "metadata": {
    "collapsed": false,
    "ExecuteTime": {
     "end_time": "2023-05-31T20:14:22.012346Z",
     "start_time": "2023-05-31T20:14:22.007178Z"
    }
   }
  },
  {
   "cell_type": "markdown",
   "source": [
    "## Aan de slag!!\n",
    "\n",
    "#### https://www.github.com/sebastiaanbekker/ROCVA_python\n",
    "\n",
    "\n",
    "- Alles van eerdere weken\n",
    "    - week3Case1,\n",
    "    - week3Case2,\n",
    "    - week3Case3,\n",
    "    - week2shopsandlocations,\n",
    "    - week2examenvragen\n",
    "-Nieuw spul:\n",
    "    - Week4dobbelen.py (let op: maak een bestand met Week4dobbelen_functies.py in de projectmap en kopieer de code van github in die file)\n",
    "    - Week4wachtwoord.py (let op: maak een bestand met Week4wachtwoord_functies.py in de projectmap en kopieer de code van github in die file)\n",
    "    - Week4scrape.py\n",
    "    - Titanic case op https://www.kaggle.com/c/titanic\n",
    "        - twee uitwerkingen van de case op github, in Titanic_decision_tree.py en Titanic_Randomforest.py, kijk of je ze kunt verbeteren. Je kunt ze ook inleveren bij Kaggle.\n"
   ],
   "metadata": {
    "collapsed": false
   }
  },
  {
   "cell_type": "code",
   "execution_count": null,
   "outputs": [],
   "source": [],
   "metadata": {
    "collapsed": false
   }
  }
 ],
 "metadata": {
  "kernelspec": {
   "display_name": "Python 3",
   "language": "python",
   "name": "python3"
  },
  "language_info": {
   "codemirror_mode": {
    "name": "ipython",
    "version": 2
   },
   "file_extension": ".py",
   "mimetype": "text/x-python",
   "name": "python",
   "nbconvert_exporter": "python",
   "pygments_lexer": "ipython2",
   "version": "2.7.6"
  }
 },
 "nbformat": 4,
 "nbformat_minor": 0
}
